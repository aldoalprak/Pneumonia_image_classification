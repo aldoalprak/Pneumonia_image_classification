{
  "nbformat": 4,
  "nbformat_minor": 0,
  "metadata": {
    "kernelspec": {
      "display_name": "Python 3",
      "language": "python",
      "name": "python3"
    },
    "language_info": {
      "codemirror_mode": {
        "name": "ipython",
        "version": 3
      },
      "file_extension": ".py",
      "mimetype": "text/x-python",
      "name": "python",
      "nbconvert_exporter": "python",
      "pygments_lexer": "ipython3",
      "version": "3.7.4"
    },
    "colab": {
      "name": "Bangkit-Project1.ipynb",
      "provenance": [],
      "include_colab_link": true
    }
  },
  "cells": [
    {
      "cell_type": "markdown",
      "metadata": {
        "id": "view-in-github",
        "colab_type": "text"
      },
      "source": [
        "<a href=\"https://colab.research.google.com/github/aldoalprak/bangkit_project1/blob/master/Bangkit-Project1.ipynb\" target=\"_parent\"><img src=\"https://colab.research.google.com/assets/colab-badge.svg\" alt=\"Open In Colab\"/></a>"
      ]
    },
    {
      "cell_type": "code",
      "metadata": {
        "id": "f-oS9sNdBgV6",
        "colab_type": "code",
        "colab": {}
      },
      "source": [
        "%tensorflow_version 2.x"
      ],
      "execution_count": 0,
      "outputs": []
    },
    {
      "cell_type": "code",
      "metadata": {
        "id": "TSUix8-WBqSZ",
        "colab_type": "code",
        "colab": {}
      },
      "source": [
        "import tensorflow as tf\n",
        "from tensorflow.keras.models import Sequential\n",
        "from tensorflow.keras.layers import Dense, Conv2D, Flatten, Dropout, MaxPooling2D\n",
        "from tensorflow.keras.preprocessing.image import ImageDataGenerator\n",
        "from tensorflow.keras.preprocessing import image\n",
        "\n",
        "import os\n",
        "import pandas as pd\n",
        "import numpy as np\n",
        "import matplotlib.pyplot as plt\n",
        "\n",
        "from google.colab import drive\n",
        "drive.mount('/content/drive')"
      ],
      "execution_count": 0,
      "outputs": []
    },
    {
      "cell_type": "code",
      "metadata": {
        "id": "QkebGi2KTPe6",
        "colab_type": "code",
        "colab": {}
      },
      "source": [
        "!ls \"/content/drive/My Drive/chest_xray/\""
      ],
      "execution_count": 0,
      "outputs": []
    },
    {
      "cell_type": "code",
      "metadata": {
        "id": "rRaiHdATTRnB",
        "colab_type": "code",
        "colab": {}
      },
      "source": [
        "## Load the data\n",
        "\n",
        "train_dir = os.path.join(\"/content/drive/My Drive/chest_xray/train\")\n",
        "validation_dir = os.path.join(\"/content/drive/My Drive/chest_xray/val\")\n",
        "test_dir = os.path.join(\"/content/drive/My Drive/chest_xray/test\")\n",
        "\n",
        "train_normal_dir = os.path.join(train_dir, \"NORMAL\")\n",
        "train_pneumonia_dir = os.path.join(train_dir, \"PNEUMONIA\")\n",
        "\n",
        "validation_normal_dir = os.path.join(validation_dir, \"NORMAL\")\n",
        "validation_pneumonia_dir = os.path.join(validation_dir, \"PNEUMONIA\")\n",
        "\n",
        "test_normal_dir = os.path.join(test_dir, \"NORMAL\")\n",
        "test_pneumonia_dir = os.path.join(test_dir, \"PNEUMONIA\")\n"
      ],
      "execution_count": 0,
      "outputs": []
    },
    {
      "cell_type": "code",
      "metadata": {
        "id": "nbV4SeidTUtN",
        "colab_type": "code",
        "colab": {}
      },
      "source": [
        "## Understand the data\n",
        "\n",
        "num_normal_train = len(os.listdir(train_normal_dir))\n",
        "num_pneumonia_train = len(os.listdir(train_pneumonia_dir))\n",
        "\n",
        "num_normal_validation = len(os.listdir(validation_normal_dir))\n",
        "num_pneumonia_validation = len(os.listdir(validation_pneumonia_dir))\n",
        "\n",
        "num_normal_test = len(os.listdir(test_normal_dir))\n",
        "num_pneumonia_test = len(os.listdir(test_pneumonia_dir))\n",
        "\n",
        "total_train = num_normal_train + num_pneumonia_train\n",
        "total_validation = num_normal_validation + num_pneumonia_validation\n",
        "total_test = num_normal_test + num_pneumonia_test\n",
        "\n",
        "train_samples = 1000\n",
        "test_samples = 500\n",
        "\n",
        "print(\"total training normal lung = \", num_normal_train)\n",
        "print(\"total training pneumonia lung = \", num_pneumonia_train)\n",
        "print(\"==================================\")\n",
        "print(\"total validation normal lung = \", num_normal_validation)\n",
        "print(\"total validation pneumonia lung = \", num_pneumonia_validation)\n",
        "print(\"==================================\")\n",
        "print(\"total test normal lung = \", num_normal_test)\n",
        "print(\"total test pneumonia lung = \", num_pneumonia_test)\n",
        "print(\"==================================\")\n",
        "print(\"total train data = \", total_train)\n",
        "print(\"total validation data = \", total_validation)\n",
        "print(\"total test data = \", total_test)"
      ],
      "execution_count": 0,
      "outputs": []
    },
    {
      "cell_type": "code",
      "metadata": {
        "id": "AhDWBX__T4NW",
        "colab_type": "code",
        "colab": {}
      },
      "source": [
        "batch_size = 150\n",
        "epochs = 20\n",
        "IMG_WIDTH = 300\n",
        "IMG_HEIGHT = 200"
      ],
      "execution_count": 0,
      "outputs": []
    },
    {
      "cell_type": "code",
      "metadata": {
        "id": "qr3oq3PmUH-C",
        "colab_type": "code",
        "colab": {}
      },
      "source": [
        "## Data Preparation\n",
        "train_image_generator = ImageDataGenerator(\n",
        "                          rescale=1./255, \n",
        "                          horizontal_flip=True,\n",
        "                          rotation_range=45,\n",
        "                          zoom_range=0.5,\n",
        "                          width_shift_range=.15,\n",
        "                          height_shift_range=.15,\n",
        "                        )\n",
        "test_image_generator = ImageDataGenerator(rescale=1./255)\n",
        "validation_image_generator = ImageDataGenerator(rescale=1./255)\n",
        "\n",
        "train_data_gen = train_image_generator.flow_from_directory(\n",
        "    batch_size = batch_size,\n",
        "    directory = train_dir,\n",
        "    shuffle = True,\n",
        "    target_size = (IMG_HEIGHT, IMG_WIDTH),\n",
        "    class_mode=\"binary\"\n",
        ")\n",
        "\n",
        "validation_data_gen = validation_image_generator.flow_from_directory(\n",
        "    batch_size = batch_size,\n",
        "    directory = validation_dir,\n",
        "    shuffle = True,\n",
        "    target_size = (IMG_HEIGHT, IMG_WIDTH),\n",
        "    class_mode=\"binary\"\n",
        ")\n",
        "\n",
        "test_data_gen = test_image_generator.flow_from_directory(\n",
        "    batch_size = batch_size,\n",
        "    directory = test_dir,\n",
        "    shuffle = True,\n",
        "    target_size = (IMG_HEIGHT, IMG_WIDTH),\n",
        "    class_mode=\"binary\"\n",
        ")"
      ],
      "execution_count": 0,
      "outputs": []
    }
  ]
}